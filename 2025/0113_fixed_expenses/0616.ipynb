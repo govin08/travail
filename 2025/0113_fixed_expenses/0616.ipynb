{
 "cells": [
  {
   "cell_type": "code",
   "execution_count": 29,
   "id": "309aee9b",
   "metadata": {},
   "outputs": [
    {
     "data": {
      "text/html": [
       "<div>\n",
       "<style scoped>\n",
       "    .dataframe tbody tr th:only-of-type {\n",
       "        vertical-align: middle;\n",
       "    }\n",
       "\n",
       "    .dataframe tbody tr th {\n",
       "        vertical-align: top;\n",
       "    }\n",
       "\n",
       "    .dataframe thead th {\n",
       "        text-align: right;\n",
       "    }\n",
       "</style>\n",
       "<table border=\"1\" class=\"dataframe\">\n",
       "  <thead>\n",
       "    <tr style=\"text-align: right;\">\n",
       "      <th></th>\n",
       "      <th>day</th>\n",
       "      <th>label</th>\n",
       "      <th>change</th>\n",
       "      <th>balance</th>\n",
       "    </tr>\n",
       "  </thead>\n",
       "  <tbody>\n",
       "    <tr>\n",
       "      <th>0</th>\n",
       "      <td>NaN</td>\n",
       "      <td>None</td>\n",
       "      <td>0</td>\n",
       "      <td>0</td>\n",
       "    </tr>\n",
       "    <tr>\n",
       "      <th>1</th>\n",
       "      <td>6.20</td>\n",
       "      <td>pay_lesson</td>\n",
       "      <td>60</td>\n",
       "      <td>60</td>\n",
       "    </tr>\n",
       "    <tr>\n",
       "      <th>2</th>\n",
       "      <td>6.20</td>\n",
       "      <td>living_0631</td>\n",
       "      <td>-15</td>\n",
       "      <td>45</td>\n",
       "    </tr>\n",
       "    <tr>\n",
       "      <th>3</th>\n",
       "      <td>6.25</td>\n",
       "      <td>insurance</td>\n",
       "      <td>-6</td>\n",
       "      <td>39</td>\n",
       "    </tr>\n",
       "    <tr>\n",
       "      <th>4</th>\n",
       "      <td>6.25</td>\n",
       "      <td>pay_academy</td>\n",
       "      <td>60</td>\n",
       "      <td>99</td>\n",
       "    </tr>\n",
       "    <tr>\n",
       "      <th>5</th>\n",
       "      <td>6.27</td>\n",
       "      <td>mobile and internet</td>\n",
       "      <td>-17</td>\n",
       "      <td>82</td>\n",
       "    </tr>\n",
       "    <tr>\n",
       "      <th>6</th>\n",
       "      <td>7.01</td>\n",
       "      <td>apt_managements_2months</td>\n",
       "      <td>-35</td>\n",
       "      <td>47</td>\n",
       "    </tr>\n",
       "    <tr>\n",
       "      <th>7</th>\n",
       "      <td>7.01</td>\n",
       "      <td>subscription_deposit</td>\n",
       "      <td>-2</td>\n",
       "      <td>45</td>\n",
       "    </tr>\n",
       "    <tr>\n",
       "      <th>8</th>\n",
       "      <td>7.04</td>\n",
       "      <td>coupang</td>\n",
       "      <td>-1</td>\n",
       "      <td>44</td>\n",
       "    </tr>\n",
       "  </tbody>\n",
       "</table>\n",
       "</div>"
      ],
      "text/plain": [
       "    day                    label  change  balance\n",
       "0   NaN                     None       0        0\n",
       "1  6.20               pay_lesson      60       60\n",
       "2  6.20              living_0631     -15       45\n",
       "3  6.25                insurance      -6       39\n",
       "4  6.25              pay_academy      60       99\n",
       "5  6.27      mobile and internet     -17       82\n",
       "6  7.01  apt_managements_2months     -35       47\n",
       "7  7.01     subscription_deposit      -2       45\n",
       "8  7.04                  coupang      -1       44"
      ]
     },
     "execution_count": 29,
     "metadata": {},
     "output_type": "execute_result"
    }
   ],
   "source": [
    "import pandas as pd\n",
    "table = pd.DataFrame()\n",
    "\n",
    "table_raw = [\n",
    "    [None,  None,                       0],\n",
    "    [6.20,  'pay_lesson',                60],\n",
    "    [6.20,  'living_0631',              -15],\n",
    "    [6.25,  'insurance',                -6],\n",
    "    [6.25,  'pay_academy',               60],\n",
    "    [6.27,  'mobile and internet',      -17],\n",
    "    [7.01,  'apt_managements_2months',  -35],\n",
    "    [7.01,  'subscription_deposit',     - 2],\n",
    "    [7.04,  'coupang',                  - 1],\n",
    "]\n",
    "table = pd.DataFrame(table_raw, columns=['day', 'label', 'change'])\n",
    "\n",
    "initial_balance = 0\n",
    "table['balance'] = [initial_balance] + table['change'][1:].cumsum().tolist()\n",
    "\n",
    "table['balance'] = table['change'].cumsum()\n",
    "table"
   ]
  },
  {
   "cell_type": "code",
   "execution_count": 17,
   "id": "3f870fbb",
   "metadata": {},
   "outputs": [
    {
     "data": {
      "text/plain": [
       "[60.0, 45.0, 39.0, 99.0, 82.0, 47.0, 45.0, 44.0]"
      ]
     },
     "execution_count": 17,
     "metadata": {},
     "output_type": "execute_result"
    }
   ],
   "source": [
    "(initial_balance + table['change'][1:].cumsum()).tolist()\n"
   ]
  },
  {
   "cell_type": "code",
   "execution_count": 22,
   "id": "7bee23e6",
   "metadata": {},
   "outputs": [
    {
     "data": {
      "text/plain": [
       "[60.0, 45.0, 39.0, 99.0, 82.0, 47.0, 45.0, 44.0]"
      ]
     },
     "execution_count": 22,
     "metadata": {},
     "output_type": "execute_result"
    }
   ],
   "source": [
    "(initial_balance+table['change'][1:].cumsum()).tolist()"
   ]
  },
  {
   "cell_type": "code",
   "execution_count": 26,
   "id": "6876c9b4",
   "metadata": {},
   "outputs": [
    {
     "data": {
      "text/plain": [
       "[0, 60.0, 45.0, 39.0, 99.0, 82.0, 47.0, 45.0, 44.0]"
      ]
     },
     "execution_count": 26,
     "metadata": {},
     "output_type": "execute_result"
    }
   ],
   "source": [
    "[initial_balance] + table['change'][1:].cumsum().tolist()"
   ]
  }
 ],
 "metadata": {
  "kernelspec": {
   "display_name": "env_tra",
   "language": "python",
   "name": "python3"
  },
  "language_info": {
   "codemirror_mode": {
    "name": "ipython",
    "version": 3
   },
   "file_extension": ".py",
   "mimetype": "text/x-python",
   "name": "python",
   "nbconvert_exporter": "python",
   "pygments_lexer": "ipython3",
   "version": "3.12.0"
  }
 },
 "nbformat": 4,
 "nbformat_minor": 5
}
